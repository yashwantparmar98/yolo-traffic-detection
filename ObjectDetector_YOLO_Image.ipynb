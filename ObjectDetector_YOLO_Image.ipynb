{
 "cells": [
  {
   "cell_type": "code",
   "execution_count": 13,
   "metadata": {},
   "outputs": [],
   "source": [
    "import numpy as np\n",
    "import cv2\n",
    "import time"
   ]
  },
  {
   "cell_type": "code",
   "execution_count": 14,
   "metadata": {},
   "outputs": [],
   "source": [
    "imagePath=\"E:\\\\ML_master docs\\\\YOLO Object Detection\\\\yolo-object-detection\\\\images\\\\1.jpg\"\n",
    "yoloPath=\"E:\\\\ML_master docs\\\\YOLO Object Detection\\\\yolo-object-detection\\\\yolo-coco\"\n",
    "# command line arguments in dict form\n",
    "#image-- path to input image\n",
    "#yolo --base path to YOLO directory\n",
    "#confidence --minimum probability to filter weak detections\n",
    "#threshold --threshold when applyong non-maxima suppression\n",
    "args={'image': imagePath , 'yolo': yoloPath , 'confidence': 0.5, 'threshold': 0.3} "
   ]
  },
  {
   "cell_type": "code",
   "execution_count": 15,
   "metadata": {},
   "outputs": [
    {
     "name": "stdout",
     "output_type": "stream",
     "text": [
      "Toal classes 80\n"
     ]
    }
   ],
   "source": [
    "# load the COCO class labels our YOLO model was trained on\n",
    "LABELS = open(yoloPath+\"\\\\coco.names\").read().strip().split(\"\\n\")\n",
    "print(\"Toal classes {0}\".format(len(LABELS)))"
   ]
  },
  {
   "cell_type": "code",
   "execution_count": 16,
   "metadata": {},
   "outputs": [],
   "source": [
    "# initialize a list of colors to represent each possible class label\n",
    "np.random.seed(42)\n",
    "#create random list of int type numbers from range 0-255. Size = len(LABELS), 3... 3 is for RGB\n",
    "COLORS = np.random.randint(0, 255, size=(len(LABELS), 3),dtype=\"uint8\")"
   ]
  },
  {
   "cell_type": "code",
   "execution_count": 17,
   "metadata": {},
   "outputs": [],
   "source": [
    "# derive the paths to the YOLO weights and model configuration\n",
    "weightsPath = yoloPath+\"\\\\yolov3.weights\"\n",
    "configPath = yoloPath+\"\\\\yolov3.cfg\"\n",
    "# load our YOLO object detector trained on COCO dataset (80 classes)\n",
    "net = cv2.dnn.readNetFromDarknet(configPath, weightsPath)"
   ]
  },
  {
   "cell_type": "code",
   "execution_count": 18,
   "metadata": {},
   "outputs": [
    {
     "name": "stdout",
     "output_type": "stream",
     "text": [
      "(768, 1024, 3)\n"
     ]
    }
   ],
   "source": [
    "# load our input image and grab its spatial dimensions\n",
    "image = cv2.imread(args[\"image\"])\n",
    "print(image.shape) # height, width, channgels\n",
    "(H, W) = image.shape[:2]"
   ]
  },
  {
   "cell_type": "code",
   "execution_count": 19,
   "metadata": {},
   "outputs": [
    {
     "name": "stdout",
     "output_type": "stream",
     "text": [
      "['yolo_82', 'yolo_94', 'yolo_106']\n"
     ]
    }
   ],
   "source": [
    "#Generally in a sequential CNN network there will be only one output layer at the end. \n",
    "#In the YOLO v3 architecture we are using there are multiple output layers giving out predictions.\n",
    "ln_all = net.getLayerNames()\n",
    "#print(ln)\n",
    "\n",
    "ln=[]\n",
    "# determine only the *output* layer names that we need from YOLO\n",
    "for i in ln_all:\n",
    "    if \"yolo\" in i:\n",
    "        ln.append(i)\n",
    "        \n",
    "print(ln)"
   ]
  },
  {
   "cell_type": "code",
   "execution_count": 20,
   "metadata": {},
   "outputs": [
    {
     "name": "stdout",
     "output_type": "stream",
     "text": [
      "[INFO] YOLO took 4.274998 seconds\n"
     ]
    }
   ],
   "source": [
    "# construct a blob from the input image \n",
    "#why we do : preprocessing images and preparing them for classification via pre-trained deep learning models.\n",
    "blob = cv2.dnn.blobFromImage(image, 1 / 255.0, (416, 416),swapRB=True, crop=False)\n",
    "\n",
    "net.setInput(blob)\n",
    "\n",
    "start = time.time()\n",
    "#perform a forward pass of the YOLO object detector, giving us our bounding boxes and associated probabilities\n",
    "layerOutputs = net.forward(ln)\n",
    "end = time.time()\n",
    " \n",
    "# show timing information on YOLO\n",
    "print(\"[INFO] YOLO took {:.6f} seconds\".format(end - start))"
   ]
  },
  {
   "cell_type": "code",
   "execution_count": 21,
   "metadata": {},
   "outputs": [],
   "source": [
    "#yolo has now processed our image and got the data. we now just need to fetch that data\n",
    "# initialize empty lists\n",
    "boxes = []\n",
    "confidences = []\n",
    "classIDs = []\n",
    "\n",
    "#Let’s begin populating these lists with data from our YOLO layerOutputs\n",
    "# loop over each of the layer outputs\n",
    "for output in layerOutputs:\n",
    "    # loop over each of the detections\n",
    "    for detection in output:\n",
    "        # extract the class ID and confidence (i.e., probability) of the current object detection\n",
    "        scores = detection[5:]\n",
    "        classID = np.argmax(scores)\n",
    "        confidence = scores[classID]\n",
    "\n",
    "        # filter out weak predictions by ensuring the detected probability is greater than the minimum probability\n",
    "        if confidence > args[\"confidence\"]:\n",
    "            # scale the bounding box coordinates back relative to the size of the image\n",
    "            #YOLO returns the center (x, y)-coordinates of the bounding box followed by the box width and height\n",
    "            box = detection[0:4] * np.array([W, H, W, H])\n",
    "            \n",
    "            #astype(\"int\") witll convert box values to int values\n",
    "            (centerX, centerY, width, height) = box.astype(\"int\")\n",
    "\n",
    "            # use the center (x, y)-coordinates to derive the top-left corner of the bounding box\n",
    "            x = int(centerX - (width / 2))\n",
    "            y = int(centerY - (height / 2))\n",
    "\n",
    "            # update our list of bounding box coordinates, confidences and class IDs\n",
    "            boxes.append([x, y, int(width), int(height)])\n",
    "            confidences.append(float(confidence))\n",
    "            classIDs.append(classID)"
   ]
  },
  {
   "cell_type": "code",
   "execution_count": 22,
   "metadata": {},
   "outputs": [],
   "source": [
    "# apply non-maxima suppression to suppress weak, overlapping bounding boxes\n",
    "#All that is required is that we submit our:\n",
    "#bounding boxes , confidences , confidence threshold and NMS threshold\n",
    "idxs = cv2.dnn.NMSBoxes(boxes, confidences, args[\"confidence\"],args[\"threshold\"])\n",
    "\n",
    "#idxs now hold indexes after non maxima suppression"
   ]
  },
  {
   "cell_type": "code",
   "execution_count": 23,
   "metadata": {},
   "outputs": [
    {
     "data": {
      "text/plain": [
       "-1"
      ]
     },
     "execution_count": 23,
     "metadata": {},
     "output_type": "execute_result"
    }
   ],
   "source": [
    "#draw the boxes and class text on the image\n",
    "if len(idxs) > 0:\n",
    "    for i in idxs.flatten():\n",
    "        # extract the bounding box coordinates\n",
    "        (x, y) = (boxes[i][0], boxes[i][1]) #x,y--coordinate of top left corner\n",
    "        (w, h) = (boxes[i][2], boxes[i][3])\n",
    " \n",
    "        #pick the color\n",
    "        color = [int(c) for c in COLORS[classIDs[i]]]\n",
    "        \n",
    "        # draw a bounding box rectangle\n",
    "        cv2.rectangle(image, (x, y), (x + w, y + h), color, 2)  #2 is the line thickness\n",
    "        \n",
    "        #prepare text\n",
    "        text = \"{}: {:.4f}\".format(LABELS[classIDs[i]], confidences[i])\n",
    "        \n",
    "        #put text on image at x, y-5....a bit up then the box\n",
    "        cv2.putText(image, text, (x, y - 5), cv2.FONT_HERSHEY_SIMPLEX,0.5, color, 2)\n",
    "\n",
    "# show the output image\n",
    "cv2.imshow(\"Image\", image)\n",
    "cv2.waitKey(0)"
   ]
  },
  {
   "cell_type": "code",
   "execution_count": null,
   "metadata": {},
   "outputs": [],
   "source": []
  }
 ],
 "metadata": {
  "kernelspec": {
   "display_name": "Python 3",
   "language": "python",
   "name": "python3"
  },
  "language_info": {
   "codemirror_mode": {
    "name": "ipython",
    "version": 3
   },
   "file_extension": ".py",
   "mimetype": "text/x-python",
   "name": "python",
   "nbconvert_exporter": "python",
   "pygments_lexer": "ipython3",
   "version": "3.6.6"
  }
 },
 "nbformat": 4,
 "nbformat_minor": 2
}
